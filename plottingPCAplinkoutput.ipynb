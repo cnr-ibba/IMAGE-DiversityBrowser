{
 "cells": [
  {
   "cell_type": "code",
   "execution_count": null,
   "metadata": {},
   "outputs": [],
   "source": [
    "#do PCA with plink\n",
    "\n",
    "#!./plink --bfile maf0.44 --pca --out maf.044_pca"
   ]
  },
  {
   "cell_type": "code",
   "execution_count": null,
   "metadata": {},
   "outputs": [],
   "source": [
    "#for now run in R to make plots want to have in Python next"
   ]
  },
  {
   "cell_type": "code",
   "execution_count": 9,
   "metadata": {},
   "outputs": [
    {
     "name": "stdout",
     "output_type": "stream",
     "text": [
      "\u001b[33mCache entry deserialization failed, entry ignored\u001b[0m\n",
      "Collecting pip\n",
      "  Downloading https://files.pythonhosted.org/packages/62/ca/94d32a6516ed197a491d17d46595ce58a83cbb2fca280414e57cd86b84dc/pip-19.2.1-py2.py3-none-any.whl (1.4MB)\n",
      "\u001b[K    100% |████████████████████████████████| 1.4MB 577kB/s eta 0:00:01\n",
      "\u001b[?25hInstalling collected packages: pip\n",
      "  Found existing installation: pip 8.1.2\n",
      "    Uninstalling pip-8.1.2:\n",
      "\u001b[31mException:\n",
      "Traceback (most recent call last):\n",
      "  File \"/usr/lib/python2.7/site-packages/pip/basecommand.py\", line 215, in main\n",
      "    status = self.run(options, args)\n",
      "  File \"/usr/lib/python2.7/site-packages/pip/commands/install.py\", line 326, in run\n",
      "    strip_file_prefix=options.strip_file_prefix,\n",
      "  File \"/usr/lib/python2.7/site-packages/pip/req/req_set.py\", line 736, in install\n",
      "    requirement.uninstall(auto_confirm=True)\n",
      "  File \"/usr/lib/python2.7/site-packages/pip/req/req_install.py\", line 742, in uninstall\n",
      "    paths_to_remove.remove(auto_confirm)\n",
      "  File \"/usr/lib/python2.7/site-packages/pip/req/req_uninstall.py\", line 115, in remove\n",
      "    renames(path, new_path)\n",
      "  File \"/usr/lib/python2.7/site-packages/pip/utils/__init__.py\", line 267, in renames\n",
      "    shutil.move(old, new)\n",
      "  File \"/usr/lib64/python2.7/shutil.py\", line 302, in move\n",
      "    os.unlink(src)\n",
      "OSError: [Errno 13] Permission denied: '/usr/bin/pip'\u001b[0m\n",
      "\u001b[33mYou are using pip version 19.0.3, however version 19.2.1 is available.\n",
      "You should consider upgrading via the 'pip install --upgrade pip' command.\u001b[0m\n"
     ]
    }
   ],
   "source": [
    "#!pip install --upgrade pip"
   ]
  },
  {
   "cell_type": "code",
   "execution_count": 11,
   "metadata": {},
   "outputs": [
    {
     "name": "stdout",
     "output_type": "stream",
     "text": [
      "Collecting pandas_plink\n",
      "\u001b[33m  Cache entry deserialization failed, entry ignored\u001b[0m\n",
      "  Using cached https://files.pythonhosted.org/packages/3c/46/673c7b01f35a806ace5cbba9e11ed8188fff4b5b8a67f4162883be90b147/pandas_plink-2.0.1.tar.gz\n",
      "\u001b[33m  Running setup.py (path:/tmp/pip-build-R2dY4l/pandas-plink/setup.py) egg_info for package pandas-plink produced metadata for project name unknown. Fix your #egg=pandas-plink fragments.\u001b[0m\n",
      "Installing collected packages: unknown\n",
      "  Running setup.py install for unknown ... \u001b[?25ldone\n",
      "\u001b[?25hSuccessfully installed unknown-0.0.0\n",
      "\u001b[33mYou are using pip version 19.0.3, however version 19.2.1 is available.\n",
      "You should consider upgrading via the 'pip install --upgrade pip' command.\u001b[0m\n"
     ]
    }
   ],
   "source": [
    "!pip install pandas_plink --user"
   ]
  },
  {
   "cell_type": "code",
   "execution_count": 12,
   "metadata": {},
   "outputs": [
    {
     "ename": "ImportError",
     "evalue": "No module named 'pandas_plink'",
     "output_type": "error",
     "traceback": [
      "\u001b[0;31m---------------------------------------------------------------------------\u001b[0m",
      "\u001b[0;31mImportError\u001b[0m                               Traceback (most recent call last)",
      "\u001b[0;32m<ipython-input-12-ade3f8bad2c2>\u001b[0m in \u001b[0;36m<module>\u001b[0;34m()\u001b[0m\n\u001b[0;32m----> 1\u001b[0;31m \u001b[0;32mfrom\u001b[0m \u001b[0mpandas_plink\u001b[0m \u001b[0;32mimport\u001b[0m \u001b[0mread_plink1_bin\u001b[0m\u001b[0;34m\u001b[0m\u001b[0m\n\u001b[0m",
      "\u001b[0;31mImportError\u001b[0m: No module named 'pandas_plink'"
     ]
    }
   ],
   "source": [
    "from pandas_plink import read_plink1_bin"
   ]
  },
  {
   "cell_type": "code",
   "execution_count": null,
   "metadata": {},
   "outputs": [],
   "source": [
    "G = read_plink1_bin(\"chr11.bed\", \"chr11.bim\", \"chr11.fam\", verbose=False)\n",
    "print(G)"
   ]
  }
 ],
 "metadata": {
  "kernelspec": {
   "display_name": "Python 3",
   "language": "python",
   "name": "python3"
  },
  "language_info": {
   "codemirror_mode": {
    "name": "ipython",
    "version": 3
   },
   "file_extension": ".py",
   "mimetype": "text/x-python",
   "name": "python",
   "nbconvert_exporter": "python",
   "pygments_lexer": "ipython3",
   "version": "3.5.2"
  }
 },
 "nbformat": 4,
 "nbformat_minor": 2
}
